{
 "cells": [
  {
   "cell_type": "markdown",
   "metadata": {},
   "source": [
    "## Exercise 1\n",
    "\n",
    "  1. Create a python file with 3 functions:\n",
    "     1. def print_file_content(file) that can print content of a csv file to the console"
   ]
  },
  {
   "cell_type": "code",
   "execution_count": 1,
   "metadata": {
    "scrolled": false
   },
   "outputs": [],
   "source": [
    "import csv\n",
    "\n",
    "def print_file_content(filepath):\n",
    "    with open(filepath) as file:\n",
    "        reader = csv.reader(file)\n",
    "        for row in reader:\n",
    "            print(str(row))\n",
    "\n",
    "#print_file_content(\"./befkbhalderstatkode.csv\")"
   ]
  },
  {
   "cell_type": "markdown",
   "metadata": {},
   "source": [
    "   B. def write_list_to_file(output_file, lst) that can take a list of tuple and write each element to a new line in file"
   ]
  },
  {
   "cell_type": "code",
   "execution_count": 4,
   "metadata": {},
   "outputs": [],
   "source": [
    "def write_list_to_file(output_file, lst):\n",
    "    with open(\"./download_dumps/\" + output_file, 'w') as file:\n",
    "        for element in lst:\n",
    "            file.write(str(element) + \"\\n\")\n",
    "\n",
    "data = [(\"data1\", \"data2\"), (\"data3\", \"data4\")]\n",
    "write_list_to_file(\"test.txt\", data)"
   ]
  },
  {
   "cell_type": "markdown",
   "metadata": {},
   "source": [
    "    a. rewrite the function so that it gets an arbitrary number of strings instead of a list"
   ]
  },
  {
   "cell_type": "code",
   "execution_count": 5,
   "metadata": {},
   "outputs": [],
   "source": [
    "def write_list_to_file(output_file, *strings):\n",
    "    with open(\"./download_dumps/\" + output_file, 'w') as file:\n",
    "        for string in strings:\n",
    "            file.write(str(string) + \"\\n\")\n",
    "\n",
    "write_list_to_file(\"test.txt\", \"data\", \"data2\", \"data3\")"
   ]
  },
  {
   "cell_type": "markdown",
   "metadata": {},
   "source": [
    "    C. def read_csv(input_file) that take a csv file and read each row into a list"
   ]
  },
  {
   "cell_type": "code",
   "execution_count": 22,
   "metadata": {},
   "outputs": [],
   "source": [
    "import csv\n",
    "\n",
    "def read_csv(input_file):\n",
    "    with open(input_file) as file:\n",
    "        reader = csv.reader(file)\n",
    "        res = []\n",
    "        for row in reader:\n",
    "            res += [row]\n",
    "        return res\n",
    "\n",
    "#result_list = read_csv(\"./befkbhalderstatkode.csv\")\n",
    "#write_list_to_file(\"test2.txt\", result_list)\n",
    "#I checked the files and it works"
   ]
  },
  {
   "cell_type": "markdown",
   "metadata": {},
   "source": []
  }
 ],
 "metadata": {
  "kernelspec": {
   "display_name": "Python 3",
   "language": "python",
   "name": "python3"
  },
  "language_info": {
   "codemirror_mode": {
    "name": "ipython",
    "version": 3
   },
   "file_extension": ".py",
   "mimetype": "text/x-python",
   "name": "python",
   "nbconvert_exporter": "python",
   "pygments_lexer": "ipython3",
   "version": "3.7.4"
  }
 },
 "nbformat": 4,
 "nbformat_minor": 2
}
