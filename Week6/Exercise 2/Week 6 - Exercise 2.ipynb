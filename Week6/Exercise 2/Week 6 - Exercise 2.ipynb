{
 "cells": [
  {
   "cell_type": "markdown",
   "metadata": {},
   "source": [
    "## Exercise 2\n",
    "\n",
    "Create a module called utils.py and put the following functions inside:\n",
    "\n",
    "    1. first function takes a path to a folder and writes all filenames in the folder to a specified output file\n",
    "    2. second takes a path to a folder and write all filenames recursively (files of all sub folders too)\n",
    "    3. third takes a list of filenames and print the first line of each\n",
    "    4. fourth takes a list of filenames and print each line that contains an email (just look for @)\n",
    "    5. fifth takes a list of md files and writes all headlines (lines starting with #) to a file Make sure your module \n",
    "    can be called both from cli and imported to another module Create a new module that imports utils.py and test each \n",
    "    function.\n"
   ]
  },
  {
   "cell_type": "markdown",
   "metadata": {},
   "source": [
    "1."
   ]
  },
  {
   "cell_type": "code",
   "execution_count": 1,
   "metadata": {},
   "outputs": [
    {
     "name": "stdout",
     "output_type": "stream",
     "text": [
      "List of files saved in: .\\download_dumps\\module_files.txt\n"
     ]
    }
   ],
   "source": [
    "from custom_modules import utils as util\n",
    "\n",
    "util.lookup_and_save_filenames(\".\\custom_modules\", \".\\download_dumps\\module_files.txt\")"
   ]
  },
  {
   "cell_type": "markdown",
   "metadata": {},
   "source": [
    "2."
   ]
  },
  {
   "cell_type": "code",
   "execution_count": 2,
   "metadata": {},
   "outputs": [
    {
     "name": "stdout",
     "output_type": "stream",
     "text": [
      "List of files saved in: .\\download_dumps\\module_files_recursive.txt\n"
     ]
    }
   ],
   "source": [
    "util.lookup_and_save_all_filenames_recursive(\".\\custom_modules\", \".\\download_dumps\\module_files_recursive.txt\", None)\n",
    "#Checked file and it works. I'm not sure if I'm doing it correctly though. I don't know how to make the function accept only one parameter"
   ]
  },
  {
   "cell_type": "markdown",
   "metadata": {},
   "source": [
    "3."
   ]
  },
  {
   "cell_type": "code",
   "execution_count": 2,
   "metadata": {},
   "outputs": [
    {
     "name": "stdout",
     "output_type": "stream",
     "text": [
      "data\n",
      "2701-0.txt\n",
      "2701-0.txt\n"
     ]
    }
   ],
   "source": [
    "files = [\"./download_dumps/test.txt\", \"./download_dumps/module_files.txt\", \"./download_dumps/module_files_recursive.txt\"]\n",
    "util.print_first_lines(files)"
   ]
  },
  {
   "cell_type": "markdown",
   "metadata": {},
   "source": [
    "4."
   ]
  },
  {
   "cell_type": "code",
   "execution_count": 3,
   "metadata": {},
   "outputs": [
    {
     "name": "stdout",
     "output_type": "stream",
     "text": [
      "mail@email.com\n",
      "another@mail.com\n",
      "cool@email.com\n",
      "nice@mail.com\n"
     ]
    }
   ],
   "source": [
    "files = [\"./download_dumps/file_that_contains_some_emails.txt\", \"./download_dumps/more_emails.txt\"]\n",
    "util.print_lines_with_email(files)"
   ]
  },
  {
   "cell_type": "markdown",
   "metadata": {},
   "source": [
    "5."
   ]
  },
  {
   "cell_type": "code",
   "execution_count": 2,
   "metadata": {},
   "outputs": [
    {
     "name": "stdout",
     "output_type": "stream",
     "text": [
      "Headlines saved in file with path: ./download_dumps/headlines.txt\n"
     ]
    }
   ],
   "source": [
    "files = [\"./download_dumps/ReadMe.md\", \"./download_dumps/ReadMe2.md\"]\n",
    "util.save_headlines(\"./download_dumps/headlines.txt\", files)"
   ]
  }
 ],
 "metadata": {
  "kernelspec": {
   "display_name": "Python 3",
   "language": "python",
   "name": "python3"
  },
  "language_info": {
   "codemirror_mode": {
    "name": "ipython",
    "version": 3
   },
   "file_extension": ".py",
   "mimetype": "text/x-python",
   "name": "python",
   "nbconvert_exporter": "python",
   "pygments_lexer": "ipython3",
   "version": "3.7.4"
  }
 },
 "nbformat": 4,
 "nbformat_minor": 2
}
