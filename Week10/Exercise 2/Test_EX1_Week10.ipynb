{
 "cells": [
  {
   "cell_type": "code",
   "execution_count": null,
   "metadata": {},
   "outputs": [
    {
     "name": "stdout",
     "output_type": "stream",
     "text": [
      "['iso_8859-1.txt', '152614.txt', '144disk.txt', 'anywhere.txt']\n"
     ]
    }
   ],
   "source": [
    "import Week10_EX1 as util_factory\n",
    "Util = util_factory.Util\n",
    "\n",
    "\n",
    "URLs = [\"https://www.w3.org/TR/PNG/iso_8859-1.txt\", \"http://textfiles.com/art/152614.txt\", \"http://textfiles.com/computers/144disk.txt\"]\n",
    "badURL = \"https://doesnotexists.net/404.txt\"\n",
    "url404 = \"https://failure.net/failure\"\n",
    "util = Util(URLs)\n",
    "res = util.multi_download([])\n",
    "res2 = util.multi_download([\"http://textfiles.com/computers/anywhere.txt\"])\n",
    "#res2 = util.download(url404, \"failure.txt\")\n",
    "print(util.filenames)\n",
    "\n",
    "iterator = util.__iter__()\n",
    "file1 = next(iterator)\n",
    "#file1.read()\n",
    "\n",
    "avg = util.avg_vowels(\"test tester test\")\n",
    "avg\n",
    "\n",
    "hardest_read = util.hardest_read()\n",
    "print(hardest_read)"
   ]
  },
  {
   "cell_type": "code",
   "execution_count": 4,
   "metadata": {},
   "outputs": [
    {
     "name": "stdout",
     "output_type": "stream",
     "text": [
      "{'data': 10, 'test': 12}\n"
     ]
    }
   ],
   "source": [
    "\n",
    "# Python code to convert into dictionary \n",
    "def Convert(tup, di): \n",
    "    di = dict(tup) \n",
    "    return di \n",
    "      \n",
    "# Driver Code  \n",
    "#tups = [(\"akash\", 10), (\"gaurav\", 12), (\"anand\", 14),  \n",
    "#    (\"suraj\", 20), (\"akhil\", 25), (\"ashish\", 30)] \n",
    "tups = [(\"data\", 10), (\"test\", 12)]\n",
    "dictionary = {} \n",
    "test = Convert(tups, dictionary)\n",
    "print(test)\n"
   ]
  }
 ],
 "metadata": {
  "kernelspec": {
   "display_name": "Python 3",
   "language": "python",
   "name": "python3"
  },
  "language_info": {
   "codemirror_mode": {
    "name": "ipython",
    "version": 3
   },
   "file_extension": ".py",
   "mimetype": "text/x-python",
   "name": "python",
   "nbconvert_exporter": "python",
   "pygments_lexer": "ipython3",
   "version": "3.7.4"
  }
 },
 "nbformat": 4,
 "nbformat_minor": 2
}
