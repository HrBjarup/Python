{
 "cells": [
  {
   "cell_type": "markdown",
   "metadata": {},
   "source": [
    "# Exercise 1"
   ]
  },
  {
   "cell_type": "markdown",
   "metadata": {},
   "source": [
    "1. Create 5 list comprehensions to solve the following 5 problems:\n",
    "    1. Iterate a list of names to return a list of the names starting with H"
   ]
  },
  {
   "cell_type": "code",
   "execution_count": 12,
   "metadata": {},
   "outputs": [
    {
     "data": {
      "text/plain": [
       "['Henry']"
      ]
     },
     "execution_count": 12,
     "metadata": {},
     "output_type": "execute_result"
    }
   ],
   "source": [
    "names = [\"Johnny\", \"Obama\", \"George\", \"Kalinka\", \"Henry\"]\n",
    "\n",
    "namesWithH  = [value for value in names if 'H' == value[0]]\n",
    "namesWithH\n"
   ]
  },
  {
   "cell_type": "markdown",
   "metadata": {},
   "source": [
    "    B. In one line create a list of the numbers 1-100 to the power of 3"
   ]
  },
  {
   "cell_type": "code",
   "execution_count": 14,
   "metadata": {
    "scrolled": true
   },
   "outputs": [
    {
     "data": {
      "text/plain": [
       "[0,\n",
       " 1,\n",
       " 8,\n",
       " 27,\n",
       " 64,\n",
       " 125,\n",
       " 216,\n",
       " 343,\n",
       " 512,\n",
       " 729,\n",
       " 1000,\n",
       " 1331,\n",
       " 1728,\n",
       " 2197,\n",
       " 2744,\n",
       " 3375,\n",
       " 4096,\n",
       " 4913,\n",
       " 5832,\n",
       " 6859,\n",
       " 8000,\n",
       " 9261,\n",
       " 10648,\n",
       " 12167,\n",
       " 13824,\n",
       " 15625,\n",
       " 17576,\n",
       " 19683,\n",
       " 21952,\n",
       " 24389,\n",
       " 27000,\n",
       " 29791,\n",
       " 32768,\n",
       " 35937,\n",
       " 39304,\n",
       " 42875,\n",
       " 46656,\n",
       " 50653,\n",
       " 54872,\n",
       " 59319,\n",
       " 64000,\n",
       " 68921,\n",
       " 74088,\n",
       " 79507,\n",
       " 85184,\n",
       " 91125,\n",
       " 97336,\n",
       " 103823,\n",
       " 110592,\n",
       " 117649,\n",
       " 125000,\n",
       " 132651,\n",
       " 140608,\n",
       " 148877,\n",
       " 157464,\n",
       " 166375,\n",
       " 175616,\n",
       " 185193,\n",
       " 195112,\n",
       " 205379,\n",
       " 216000,\n",
       " 226981,\n",
       " 238328,\n",
       " 250047,\n",
       " 262144,\n",
       " 274625,\n",
       " 287496,\n",
       " 300763,\n",
       " 314432,\n",
       " 328509,\n",
       " 343000,\n",
       " 357911,\n",
       " 373248,\n",
       " 389017,\n",
       " 405224,\n",
       " 421875,\n",
       " 438976,\n",
       " 456533,\n",
       " 474552,\n",
       " 493039,\n",
       " 512000,\n",
       " 531441,\n",
       " 551368,\n",
       " 571787,\n",
       " 592704,\n",
       " 614125,\n",
       " 636056,\n",
       " 658503,\n",
       " 681472,\n",
       " 704969,\n",
       " 729000,\n",
       " 753571,\n",
       " 778688,\n",
       " 804357,\n",
       " 830584,\n",
       " 857375,\n",
       " 884736,\n",
       " 912673,\n",
       " 941192,\n",
       " 970299,\n",
       " 1000000]"
      ]
     },
     "execution_count": 14,
     "metadata": {},
     "output_type": "execute_result"
    }
   ],
   "source": [
    "numbers = [value ** 3 for value in range(0,101)]\n",
    "numbers"
   ]
  },
  {
   "cell_type": "markdown",
   "metadata": {},
   "source": [
    "    C. Iterate a list of names to create a list of tuples where the tuples first value is the length of the name and the second is the name"
   ]
  },
  {
   "cell_type": "code",
   "execution_count": 2,
   "metadata": {},
   "outputs": [
    {
     "data": {
      "text/plain": [
       "[(6, 'Johnny'),\n",
       " (5, 'Obama'),\n",
       " (6, 'George'),\n",
       " (7, 'Kalinka'),\n",
       " (5, 'Henry'),\n",
       " (3, 'Lex'),\n",
       " (7, 'Izalith')]"
      ]
     },
     "execution_count": 2,
     "metadata": {},
     "output_type": "execute_result"
    }
   ],
   "source": [
    "names = [\"Johnny\", \"Obama\", \"George\", \"Kalinka\", \"Henry\", \"Lex\", \"Izalith\"]\n",
    "tuples = [(len(value), value) for value in names]\n",
    "tuples"
   ]
  },
  {
   "cell_type": "markdown",
   "metadata": {},
   "source": [
    "    D. Iterate over each character in a string and get only those that are nummeric"
   ]
  },
  {
   "cell_type": "code",
   "execution_count": 3,
   "metadata": {},
   "outputs": [
    {
     "data": {
      "text/plain": [
       "['3', '4', '1', '2', '6', '7', '1', '0', '4', '3', '5', '0']"
      ]
     },
     "execution_count": 3,
     "metadata": {},
     "output_type": "execute_result"
    }
   ],
   "source": [
    "data = \"lil34yung12with67da104gun3-50\"\n",
    "numbers = [value for value in data if value.isdigit()]\n",
    "numbers"
   ]
  },
  {
   "cell_type": "markdown",
   "metadata": {},
   "source": [
    "    E. Using only a list comprehension wrapped in set() get all possible combination from throwing 2 dice"
   ]
  },
  {
   "cell_type": "code",
   "execution_count": 16,
   "metadata": {
    "scrolled": true
   },
   "outputs": [
    {
     "data": {
      "text/plain": [
       "[(1, 1),\n",
       " (1, 2),\n",
       " (1, 3),\n",
       " (1, 4),\n",
       " (1, 5),\n",
       " (1, 6),\n",
       " (2, 1),\n",
       " (2, 2),\n",
       " (2, 3),\n",
       " (2, 4),\n",
       " (2, 5),\n",
       " (2, 6),\n",
       " (3, 1),\n",
       " (3, 2),\n",
       " (3, 3),\n",
       " (3, 4),\n",
       " (3, 5),\n",
       " (3, 6),\n",
       " (4, 1),\n",
       " (4, 2),\n",
       " (4, 3),\n",
       " (4, 4),\n",
       " (4, 5),\n",
       " (4, 6),\n",
       " (5, 1),\n",
       " (5, 2),\n",
       " (5, 3),\n",
       " (5, 4),\n",
       " (5, 5),\n",
       " (5, 6),\n",
       " (6, 1),\n",
       " (6, 2),\n",
       " (6, 3),\n",
       " (6, 4),\n",
       " (6, 5),\n",
       " (6, 6)]"
      ]
     },
     "execution_count": 16,
     "metadata": {},
     "output_type": "execute_result"
    }
   ],
   "source": [
    "dice1 = range(1,7)\n",
    "dice2 = range(1,7)\n",
    "#Not using set. I don't know how to do it using only one loop and a set\n",
    "combinations = [(value1, value2) for value1 in dice1 for value2 in dice2]\n",
    "combinations\n"
   ]
  },
  {
   "cell_type": "markdown",
   "metadata": {},
   "source": [
    "2. Create 2 dictionary comprehensions to solve the following:\n",
    "    1. Iterate a list of names and create a dictionary where key is the name and value is the length of the name"
   ]
  },
  {
   "cell_type": "code",
   "execution_count": 10,
   "metadata": {},
   "outputs": [
    {
     "data": {
      "text/plain": [
       "{'Johnny': 6,\n",
       " 'Obama': 5,\n",
       " 'George': 6,\n",
       " 'Kalinka': 7,\n",
       " 'Henry': 5,\n",
       " 'Lex': 3,\n",
       " 'Izalith': 7}"
      ]
     },
     "execution_count": 10,
     "metadata": {},
     "output_type": "execute_result"
    }
   ],
   "source": [
    "names = [\"Johnny\", \"Obama\", \"George\", \"Kalinka\", \"Henry\", \"Lex\", \"Izalith\"]\n",
    "\n",
    "dictionary = {value:len(value) for value in names}\n",
    "\n",
    "dictionary"
   ]
  },
  {
   "cell_type": "markdown",
   "metadata": {},
   "source": [
    "    B. Iterate a list of numbers and create a dictionary with (key, value) being (number, squareroot of number)"
   ]
  },
  {
   "cell_type": "code",
   "execution_count": 15,
   "metadata": {
    "scrolled": true
   },
   "outputs": [
    {
     "data": {
      "text/plain": [
       "{100: 10.0,\n",
       " 99: 9.9498743710662,\n",
       " 98: 9.899494936611665,\n",
       " 97: 9.848857801796104,\n",
       " 96: 9.797958971132712,\n",
       " 95: 9.746794344808963,\n",
       " 94: 9.695359714832659,\n",
       " 93: 9.643650760992955,\n",
       " 92: 9.591663046625438,\n",
       " 91: 9.539392014169456,\n",
       " 90: 9.486832980505138,\n",
       " 89: 9.433981132056603,\n",
       " 88: 9.38083151964686,\n",
       " 87: 9.327379053088816,\n",
       " 86: 9.273618495495704,\n",
       " 85: 9.219544457292887,\n",
       " 84: 9.16515138991168,\n",
       " 83: 9.1104335791443,\n",
       " 82: 9.055385138137417,\n",
       " 81: 9.0,\n",
       " 80: 8.94427190999916,\n",
       " 79: 8.888194417315589,\n",
       " 78: 8.831760866327848,\n",
       " 77: 8.774964387392123,\n",
       " 76: 8.717797887081348,\n",
       " 75: 8.660254037844387,\n",
       " 74: 8.602325267042627,\n",
       " 73: 8.54400374531753,\n",
       " 72: 8.48528137423857,\n",
       " 71: 8.426149773176359,\n",
       " 70: 8.366600265340756,\n",
       " 69: 8.306623862918075,\n",
       " 68: 8.246211251235321,\n",
       " 67: 8.18535277187245,\n",
       " 66: 8.12403840463596,\n",
       " 65: 8.06225774829855,\n",
       " 64: 8.0,\n",
       " 63: 7.937253933193772,\n",
       " 62: 7.874007874011811,\n",
       " 61: 7.810249675906654,\n",
       " 60: 7.745966692414834,\n",
       " 59: 7.681145747868608,\n",
       " 58: 7.615773105863909,\n",
       " 57: 7.54983443527075,\n",
       " 56: 7.483314773547883,\n",
       " 55: 7.416198487095663,\n",
       " 54: 7.3484692283495345,\n",
       " 53: 7.280109889280518,\n",
       " 52: 7.211102550927978,\n",
       " 51: 7.14142842854285,\n",
       " 50: 7.0710678118654755,\n",
       " 49: 7.0,\n",
       " 48: 6.928203230275509,\n",
       " 47: 6.855654600401044,\n",
       " 46: 6.782329983125268,\n",
       " 45: 6.708203932499369,\n",
       " 44: 6.6332495807108,\n",
       " 43: 6.557438524302,\n",
       " 42: 6.48074069840786,\n",
       " 41: 6.4031242374328485,\n",
       " 40: 6.324555320336759,\n",
       " 39: 6.244997998398398,\n",
       " 38: 6.164414002968976,\n",
       " 37: 6.082762530298219,\n",
       " 36: 6.0,\n",
       " 35: 5.916079783099616,\n",
       " 34: 5.830951894845301,\n",
       " 33: 5.744562646538029,\n",
       " 32: 5.656854249492381,\n",
       " 31: 5.5677643628300215,\n",
       " 30: 5.477225575051661,\n",
       " 29: 5.385164807134504,\n",
       " 28: 5.291502622129181,\n",
       " 27: 5.196152422706632,\n",
       " 26: 5.0990195135927845,\n",
       " 25: 5.0,\n",
       " 24: 4.898979485566356,\n",
       " 23: 4.795831523312719,\n",
       " 22: 4.69041575982343,\n",
       " 21: 4.58257569495584,\n",
       " 20: 4.47213595499958,\n",
       " 19: 4.358898943540674,\n",
       " 18: 4.242640687119285,\n",
       " 17: 4.123105625617661,\n",
       " 16: 4.0,\n",
       " 15: 3.872983346207417,\n",
       " 14: 3.7416573867739413,\n",
       " 13: 3.605551275463989,\n",
       " 12: 3.4641016151377544,\n",
       " 11: 3.3166247903554,\n",
       " 10: 3.1622776601683795,\n",
       " 9: 3.0,\n",
       " 8: 2.8284271247461903,\n",
       " 7: 2.6457513110645907,\n",
       " 6: 2.449489742783178,\n",
       " 5: 2.23606797749979,\n",
       " 4: 2.0,\n",
       " 3: 1.7320508075688772,\n",
       " 2: 1.4142135623730951,\n",
       " 1: 1.0}"
      ]
     },
     "execution_count": 15,
     "metadata": {},
     "output_type": "execute_result"
    }
   ],
   "source": [
    "import math\n",
    "numbers = range(100,0,-1)\n",
    "\n",
    "dictionary = {value:(math.sqrt(value)) for value in numbers}\n",
    "\n",
    "dictionary"
   ]
  },
  {
   "cell_type": "markdown",
   "metadata": {},
   "source": [
    "3. Progammatically using loops create a small program to produce a dictionary with all the 2 dice throw combinations as keys and their likelyhood in percent as values"
   ]
  },
  {
   "cell_type": "code",
   "execution_count": 21,
   "metadata": {},
   "outputs": [
    {
     "data": {
      "text/plain": [
       "{2: 2.7777777777777777,\n",
       " 3: 5.555555555555555,\n",
       " 4: 8.333333333333332,\n",
       " 5: 11.11111111111111,\n",
       " 6: 13.88888888888889,\n",
       " 7: 16.666666666666664,\n",
       " 8: 13.88888888888889,\n",
       " 9: 11.11111111111111,\n",
       " 10: 8.333333333333332,\n",
       " 11: 5.555555555555555,\n",
       " 12: 2.7777777777777777}"
      ]
     },
     "execution_count": 21,
     "metadata": {},
     "output_type": "execute_result"
    }
   ],
   "source": [
    "dice1 = range(1,7)\n",
    "dice2 = range(1,7)\n",
    "\n",
    "results = [value1 + value2 for value1 in dice1 for value2 in dice2]\n",
    "resultset = set([value1 + value2 for value1 in dice1 for value2 in dice2])\n",
    "\n",
    "resultdict = {value:(results.count(value)/len(results)*100) for value in resultset}\n",
    "\n",
    "resultdict"
   ]
  }
 ],
 "metadata": {
  "kernelspec": {
   "display_name": "Python 3",
   "language": "python",
   "name": "python3"
  },
  "language_info": {
   "codemirror_mode": {
    "name": "ipython",
    "version": 3
   },
   "file_extension": ".py",
   "mimetype": "text/x-python",
   "name": "python",
   "nbconvert_exporter": "python",
   "pygments_lexer": "ipython3",
   "version": "3.7.4"
  }
 },
 "nbformat": 4,
 "nbformat_minor": 2
}
