{
 "cells": [
  {
   "cell_type": "markdown",
   "metadata": {},
   "source": [
    "Hvor mange produkter kommer frem, \n",
    "når man søger på \"breaking benjamin\"\n",
    "(se URL'en)?"
   ]
  },
  {
   "cell_type": "code",
   "execution_count": 8,
   "metadata": {},
   "outputs": [],
   "source": [
    "import bs4\n",
    "from time import sleep\n",
    "from selenium import webdriver\n",
    "from selenium.webdriver.common.keys import Keys\n",
    "import re\n",
    "\n",
    "\n",
    "#browser = webdriver.Firefox()\n",
    "#browser.get('http://www.krak.dk')"
   ]
  },
  {
   "cell_type": "code",
   "execution_count": 9,
   "metadata": {},
   "outputs": [],
   "source": [
    "base_url = 'https://www.merchbar.com/search?q=breaking%20benjamin&p=1'\n",
    "browser = webdriver.Firefox()"
   ]
  },
  {
   "cell_type": "code",
   "execution_count": 10,
   "metadata": {},
   "outputs": [
    {
     "name": "stdout",
     "output_type": "stream",
     "text": [
      "Amount of products: 34\n"
     ]
    }
   ],
   "source": [
    "browser.get(base_url)\n",
    "browser.implicitly_wait(1)\n",
    "\n",
    "\n",
    "page_source = browser.page_source\n",
    "\n",
    "soup = bs4.BeautifulSoup(page_source, 'html.parser')\n",
    "event_cell = soup.find_all('div', {'class': 'd-none d-md-block col-md-3'})[0]\n",
    "text = event_cell.select(\"span\")[0].text\n",
    "amount = re.compile(r'\\d*')\n",
    "mo = amount.search(text)\n",
    "print(\"Amount of products:\", mo.group(0))\n",
    "\n"
   ]
  },
  {
   "cell_type": "markdown",
   "metadata": {},
   "source": [
    "Hvor mange TRACKs er der i det første produkt, som ligger i kategorien CDs?"
   ]
  },
  {
   "cell_type": "code",
   "execution_count": 67,
   "metadata": {},
   "outputs": [
    {
     "name": "stdout",
     "output_type": "stream",
     "text": [
      "13\n"
     ]
    }
   ],
   "source": [
    "checkbox_label = browser.find_elements_by_class_name('ais-RefinementList-labelText')[2]\n",
    "checkbox_label.click()\n",
    "sleep(0.4)\n",
    "first_item = browser.find_element_by_xpath('//div[@data-id=\"759745\"]')\n",
    "first_item.click()\n",
    "sleep(0.4)\n",
    "track_list = browser.find_element_by_class_name('track-list')\n",
    "tracks = track_list.find_elements_by_class_name('track')\n",
    "print(len(tracks))\n",
    "\n",
    "\n"
   ]
  },
  {
   "cell_type": "markdown",
   "metadata": {},
   "source": [
    "Vis et bar chart der viser: \n",
    "- Procentdel af de viste produkter, der rent faktisk \n",
    "   indeholder Breaking Benjamin merch\n",
    "- Procentdel af den merch, der er på tilbud\n",
    "- Procentdel af den merch, der ikke er på lager"
   ]
  },
  {
   "cell_type": "code",
   "execution_count": 16,
   "metadata": {},
   "outputs": [
    {
     "name": "stdout",
     "output_type": "stream",
     "text": [
      "Percentage of BB merch:  53.57142857142857\n",
      "Percentage of BB merch on sale:  93.33333333333333\n",
      "Percentage of BB merch out of stock:  33.33333333333333\n"
     ]
    },
    {
     "data": {
      "image/png": "[encoded data removed]",
      "text/plain": [
       "<Figure size 432x288 with 1 Axes>"
      ]
     },
     "metadata": {
      "needs_background": "light"
     },
     "output_type": "display_data"
    }
   ],
   "source": [
    "\n",
    "import matplotlib.pyplot as plt\n",
    "\n",
    "def web_scroller():\n",
    "    #Scroller source:\n",
    "    #https://stackoverflow.com/questions/20986631/how-can-i-scroll-a-web-page-using-selenium-webdriver-in-python\n",
    "    SCROLL_PAUSE_TIME = 0.5\n",
    "\n",
    "    # Get scroll height\n",
    "    last_height = browser.execute_script(\"return document.body.scrollHeight\")\n",
    "\n",
    "    while True:\n",
    "        # Scroll down to bottom\n",
    "        browser.execute_script(\"window.scrollTo(0, document.body.scrollHeight);\")\n",
    "\n",
    "        # Wait to load page\n",
    "        sleep(SCROLL_PAUSE_TIME)\n",
    "\n",
    "        # Calculate new scroll height and compare with last scroll height\n",
    "        new_height = browser.execute_script(\"return document.body.scrollHeight\")\n",
    "        if new_height == last_height:\n",
    "            break\n",
    "        last_height = new_height\n",
    "    return True\n",
    "done_scrolling = web_scroller()\n",
    "\n",
    "amount_of_items = 0\n",
    "bb_counter = 0\n",
    "onsale_counter = 0\n",
    "out_of_stock_counter = 0\n",
    "if done_scrolling:\n",
    "    merch_items = browser.find_elements_by_xpath('//div[@class=\"col-md-4 col-6\"]')\n",
    "    amount_of_items = len(merch_items)\n",
    "\n",
    "    for item in merch_items:\n",
    "        #On sale?\n",
    "        sale_element = False\n",
    "        #Actual Breaking Benjamin merch?\n",
    "        name_element = item.find_element_by_class_name('MerchTile\\.module__brandName')\n",
    "        #In stock?\n",
    "        stock_element = item.find_element_by_class_name('MerchTile\\.module__status')\n",
    "\n",
    "        #Checking the brand\n",
    "        if name_element.text.upper() == \"BREAKING BENJAMIN\":\n",
    "            bb_counter += 1\n",
    "            try:\n",
    "                #If we find a \"ON SALE\"-tag then the item is on sale\n",
    "                #We only check for sales if the item is Breaking Benjamin merch\n",
    "                item.find_element_by_class_name('MerchTile\\.module__overlayCode')\n",
    "                sale_element = True\n",
    "            except:\n",
    "                #Do nothing\n",
    "                pass\n",
    "\n",
    "            #Checking if item is on sale\n",
    "            if sale_element:\n",
    "                onsale_counter += 1\n",
    "            \n",
    "            #Checking availability\n",
    "            if not stock_element.text.upper() == \"IN STOCK\":\n",
    "                out_of_stock_counter += 1\n",
    "\n",
    "# ----------------------------------------------------\n",
    "# ----- Value number 1 needed for the bar chart: -----\n",
    "# ----------------------------------------------------\n",
    "percentage_of_bb = bb_counter/amount_of_items * 100\n",
    "\n",
    "# ----------------------------------------------------\n",
    "# ----- Value number 2 needed for the bar chart: -----\n",
    "# ----------------------------------------------------\n",
    "percentage_on_sale = onsale_counter/bb_counter * 100\n",
    "\n",
    "# ----------------------------------------------------\n",
    "# ----- Value number 2 needed for the bar chart: -----\n",
    "# ----------------------------------------------------\n",
    "percentage_out_of_stock = out_of_stock_counter/bb_counter * 100\n",
    "\n",
    "print(\"Percentage of BB merch: \", percentage_of_bb)\n",
    "print(\"Percentage of BB merch on sale: \", percentage_on_sale)\n",
    "print(\"Percentage of BB merch out of stock: \", percentage_out_of_stock)\n",
    "\n",
    "data = {\"BB merch\" : percentage_of_bb, \"BB merch on sale\" : percentage_on_sale,  \"BB merch not in stock\" : percentage_out_of_stock}\n",
    "\n",
    "plt.bar(data.keys(), data.values(), width=0.9, align='center')\n",
    "\n",
    "plt.axis([-1, len(data.values()), 0, 100])\n",
    "plt.title(\"Breaking Benjamin merch stats\", fontsize=12)\n",
    "plt.ylabel(\"Percentage\", fontsize=10)\n",
    "plt.tick_params(axis='both', which='major', labelsize=10)\n",
    "plt.xticks(rotation=10)\n",
    "plt.show()"
   ]
  }
 ],
 "metadata": {
  "kernelspec": {
   "display_name": "Python 3",
   "language": "python",
   "name": "python3"
  },
  "language_info": {
   "codemirror_mode": {
    "name": "ipython",
    "version": 3
   },
   "file_extension": ".py",
   "mimetype": "text/x-python",
   "name": "python",
   "nbconvert_exporter": "python",
   "pygments_lexer": "ipython3",
   "version": "3.7.4"
  }
 },
 "nbformat": 4,
 "nbformat_minor": 2
}
