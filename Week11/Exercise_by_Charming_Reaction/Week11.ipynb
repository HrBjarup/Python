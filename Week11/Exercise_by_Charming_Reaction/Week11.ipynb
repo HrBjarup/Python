{
 "cells": [
  {
   "cell_type": "markdown",
   "metadata": {},
   "source": [
    "URL = https://www.dba.dk/biler/biler/\n",
    "\n",
    "1. Hvor mange brugte biler er der at vælge i mellem"
   ]
  },
  {
   "cell_type": "code",
   "execution_count": 8,
   "metadata": {},
   "outputs": [],
   "source": [
    "import bs4\n",
    "from time import sleep\n",
    "from selenium import webdriver\n",
    "from selenium.webdriver.common.keys import Keys\n",
    "import re\n",
    "\n",
    "base_url = \"https://www.dba.dk/biler/biler/\"\n",
    "browser = webdriver.Firefox()\n",
    "browser.get(base_url)\n",
    "browser.implicitly_wait(1)\n"
   ]
  },
  {
   "cell_type": "code",
   "execution_count": 20,
   "metadata": {},
   "outputs": [
    {
     "name": "stdout",
     "output_type": "stream",
     "text": "Amount of cars for sale: 31324\nTotalt amount of car bulletin on DBA: 31449\n"
    }
   ],
   "source": [
    "page_source = browser.page_source\n",
    "\n",
    "soup = bs4.BeautifulSoup(page_source, 'html.parser')\n",
    "bulletin_type_cell = soup.find_all('div', {'class': 'navigator radioNavigator modulePanel'})[0]\n",
    "data_cells = bulletin_type_cell.find_all('small')\n",
    "cars_for_sale = data_cells[0].text[1:-1]\n",
    "cars_of_interest = data_cells[1].text[1:-1]\n",
    "total_amount_of_cars = int(cars_for_sale) + int(cars_of_interest)\n",
    "print(\"Amount of cars for sale:\", cars_for_sale)\n",
    "print(\"Totalt amount of car bulletin on DBA:\", total_amount_of_cars)"
   ]
  },
  {
   "cell_type": "markdown",
   "metadata": {},
   "source": [
    "2. Udskriv alle biler af mærket Ford"
   ]
  },
  {
   "cell_type": "code",
   "execution_count": 68,
   "metadata": {},
   "outputs": [
    {
     "name": "stdout",
     "output_type": "stream",
     "text": "Model year:  2007\nPrice:  3.000 kr.\n\n\nModel year:  2010\nPrice:  36.000 kr.\n\n\nModel year:  2008\nPrice:  44.999 kr.\n\n\nModel year:  2006\nPrice:  15.000 kr.\n\n\nModel year:  2007\nPrice:  369.000 kr.\n\n\nModel year:  2006\nPrice:  49.500 kr.\n\n\nModel year:  2011\nPrice:  54.900 kr.\n\n\nModel year:  1984\nPrice:  29.800 kr.\n\n\nModel year:  2008\nPrice:  33.000 kr.\n\n\nModel year:  2008\nPrice:  15.300 kr.\n\n\nModel year:  2009\nPrice:  39.900 kr.\n\n\nModel year:  1999\nPrice:  9.900 kr.\n\n\nModel year:  2010\nPrice:  27.500 kr.\n\n\nModel year:  2013\nPrice:  189.800 kr.\n\n\nModel year:  2003\nPrice:  13.500 kr.\n\n\nModel year:  2012\nPrice:  9.900 kr.\n\n\nModel year:  2015\nPrice:  1 kr.\n\n\nModel year:  2019\nPrice:  199.000 kr.\n\n\nModel year:  1981\nPrice:  169.800 kr.\n\n\nModel year:  2008\nPrice:  34.900 kr.\n\n\nModel year:  2009\nPrice:  32.999 kr.\n\n\nModel year:  2006\nPrice:  39.900 kr.\n\n\nModel year:  2006\nPrice:  38.000 kr.\n\n\nModel year:  2011\nPrice:  105.000 kr.\n\n\nModel year:  2017\nPrice:  219.500 kr.\n\n\nModel year:  2003\nPrice:  10.000 kr.\n\n\nModel year:  2005\nPrice:  13.500 kr.\n\n\nModel year:  2011\nPrice:  94.900 kr.\n\n\nModel year:  2013\nPrice:  139.900 kr.\n\n\nModel year:  2013\nPrice:  49.900 kr.\n\n\nModel year:  2008\nPrice:  37.500 kr.\n\n\nModel year:  2007\nPrice:  44.900 kr.\n\n\nAmount of car:  32\nAmount of pages:  2\n"
    }
   ],
   "source": [
    "checkbox_li = browser.find_element_by_class_name('no-ford')\n",
    "a_tag_ford = checkbox_li.find_element_by_xpath('//a[@href=\"/biler/biler/maerke-ford/\"]')\n",
    "a_tag_ford.click()\n",
    "#Wait for page to load\n",
    "sleep(2)\n",
    "\n",
    "amount_of_cars = 0\n",
    "index = 1\n",
    "while True:\n",
    "    bulletin = browser.find_elements_by_class_name('dbaListing')\n",
    "    for element in bulletin:\n",
    "        description = element.find_elements_by_class_name('listingLink')[1].text\n",
    "        model_year = element.find_element_by_xpath('.//td[@title=\"Modelår\"]').text\n",
    "        price = element.find_element_by_xpath('.//td[@title=\"Pris\"]').text\n",
    "        # Commented out to spare github from a wall of text:\n",
    "        # print(\"Car description:\\n\", description)\n",
    "        print(\"Model year: \", model_year)\n",
    "        print(\"Price: \", price)\n",
    "        print(\"\\n\")\n",
    "        amount_of_cars += 1\n",
    "    index += 1\n",
    "    pagination_URL = \"https://www.dba.dk/biler/biler/maerke-ford/side-\" + str(index) \n",
    "    browser.get(pagination_URL)\n",
    "    browser.implicitly_wait(1)\n",
    "    # Browser will return to one of these URLs if we try to access an URL that doesn't\n",
    "    # exist - for example if we try to reach page 100 and that page doesn't exist\n",
    "    if browser.current_url == \"https://www.dba.dk/biler/biler/maerke-ford/\" or browser.current_url == \"https://www.dba.dk/biler/biler/\":\n",
    "        break\n",
    "    # Remove following line if you actually want the script to run through every\n",
    "    # single page\n",
    "    if (True):\n",
    "        break\n",
    "\n",
    "print(\"Amount of cars: \", amount_of_cars)\n",
    "print(\"Amount of pages: \", index)"
   ]
  },
  {
   "cell_type": "markdown",
   "metadata": {},
   "source": [
    "3. Åben de 5 dyreste biler med selenium i decending order og vis dem med et bar chart"
   ]
  },
  {
   "cell_type": "code",
   "execution_count": 74,
   "metadata": {},
   "outputs": [
    {
     "name": "stdout",
     "output_type": "stream",
     "text": "{'Porsche 918 Spyder 4': '10.125.000', 'Audi R8 5': '3.499.000', 'Bentley Continental GT 4': '2.399.500', 'Ferrari 458 4': '1.949.900', 'Ferrari F512 M 4': '1.953.600'}\n"
    },
    {
     "data": {
      "text/plain": "<Figure size 640x480 with 1 Axes>"
     },
     "metadata": {},
     "output_type": "display_data"
    }
   ],
   "source": [
    "import matplotlib.pyplot as plt\n",
    "browser.get(\"https://www.dba.dk/biler/biler/\")\n",
    "browser.implicitly_wait(1)\n",
    "\n",
    "sorting_panel = browser.find_element_by_class_name('sorting')\n",
    "price_button_area = sorting_panel.find_elements_by_xpath('.//th[@colspan=\"1\"]')[-1]\n",
    "price_button = price_button_area.find_element_by_class_name('human-ref')\n",
    "price_button.click()\n",
    "browser.implicitly_wait(1)\n",
    "sorting_panel = browser.find_element_by_class_name('sorting')\n",
    "price_button_area = sorting_panel.find_elements_by_xpath('.//th[@colspan=\"1\"]')[-1]\n",
    "price_button = price_button_area.find_element_by_class_name('descendingCurrentOrder')\n",
    "price_button.click()\n",
    "# Or I could just use the link directly... https://www.dba.dk/biler/biler/?sort=price-desc\n",
    "\n",
    "bulletin = browser.find_elements_by_class_name('dbaListing')\n",
    "expensive_cars = {}\n",
    "for index, element in enumerate(bulletin):\n",
    "    description = element.find_elements_by_class_name('listingLink')[1].text\n",
    "    stop_at_comma = re.compile(r'^[^,]*')\n",
    "    mo = stop_at_comma.search(description)\n",
    "    car_name = mo.group()\n",
    "    price = element.find_element_by_xpath('.//td[@title=\"Pris\"]').text\n",
    "    expensive_cars[car_name] = price[:-4]\n",
    "    amount_of_cars += 1\n",
    "    if index >= 5:\n",
    "        break\n",
    "print(expensive_cars)\n",
    "plt.bar(expensive_cars.keys(), expensive_cars.values(), width=0.9, align='center')\n",
    "\n",
    "plt.axis([-1, len(expensive_cars.values()), 0, 100])\n",
    "plt.title(\"5 most expensive cars\", fontsize=12)\n",
    "plt.ylabel(\"kr.\", fontsize=10)\n",
    "plt.tick_params(axis='both', which='major', labelsize=10)\n",
    "plt.xticks(rotation=10)\n",
    "plt.show()\n"
   ]
  }
 ],
 "metadata": {
  "kernelspec": {
   "name": "python3",
   "display_name": "Python 3"
  }
 },
 "nbformat": 4,
 "nbformat_minor": 2
}